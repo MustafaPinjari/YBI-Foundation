{
  "cells": [
    {
      "cell_type": "markdown",
      "metadata": {
        "id": "view-in-github",
        "colab_type": "text"
      },
      "source": [
        "<a href=\"https://colab.research.google.com/github/mustafaagent/YBI-Foundation/blob/main/Hand_Written_Digit_Prediction_Classification_Analysis.ipynb\" target=\"_parent\"><img src=\"https://colab.research.google.com/assets/colab-badge.svg\" alt=\"Open In Colab\"/></a>"
      ]
    },
    {
      "cell_type": "markdown",
      "source": [
        "# Hand Written Digit Prediction - Classification\n",
        "Objective : To Analysis the Hand Written Digit Prediction\n",
        "\n",
        "Data Source : https://www.youtube.com/watch?v=UD6co1HVpO4&list=PLl3P-U08Zvwll_bzhyp-QPFO7CewOIGi2&index=6&t=18s\n",
        "\n",
        "\n",
        "\n",
        "Import Library\n"
      ],
      "metadata": {
        "id": "R0aoMGesAoaN"
      }
    },
    {
      "cell_type": "code",
      "execution_count": null,
      "metadata": {
        "id": "yo2Fw4ubAmW3"
      },
      "outputs": [],
      "source": [
        "import pandas as pd"
      ]
    },
    {
      "cell_type": "markdown",
      "source": [],
      "metadata": {
        "id": "5yhuAIaeAnyP"
      }
    },
    {
      "cell_type": "code",
      "execution_count": null,
      "metadata": {
        "id": "j2XTymmsAmW4"
      },
      "outputs": [],
      "source": [
        "import numpy as np"
      ]
    },
    {
      "cell_type": "code",
      "execution_count": null,
      "metadata": {
        "id": "B5ZMebjgAmW4"
      },
      "outputs": [],
      "source": [
        "import matplotlib.pyplot as plt"
      ]
    },
    {
      "cell_type": "markdown",
      "source": [
        "# Import Data"
      ],
      "metadata": {
        "id": "5kHCae98BzMY"
      }
    },
    {
      "cell_type": "code",
      "execution_count": 1,
      "metadata": {
        "id": "_zSHkyN6AmW5"
      },
      "outputs": [],
      "source": [
        "from sklearn.datasets import load_digits"
      ]
    },
    {
      "cell_type": "code",
      "execution_count": null,
      "metadata": {
        "id": "BVYm1Q93AmW5"
      },
      "outputs": [],
      "source": [
        "df = load_digits()"
      ]
    },
    {
      "cell_type": "markdown",
      "source": [
        "# Data Visualization"
      ],
      "metadata": {
        "id": "vUuU4P_jB6NP"
      }
    },
    {
      "cell_type": "code",
      "execution_count": null,
      "metadata": {
        "id": "Ewsl3vgwAmW5",
        "outputId": "150c94bf-f51a-44f9-f33d-b60d4ead5b3f"
      },
      "outputs": [
        {
          "data": {
            "image/png": "[encoded data removed]",
            "text/plain": [
              "<Figure size 1000x300 with 4 Axes>"
            ]
          },
          "metadata": {},
          "output_type": "display_data"
        }
      ],
      "source": [
        "_,axes = plt.subplots(nrows =1,ncols =4,figsize = (10,3))\n",
        "\n",
        "for ax, image, label in zip (axes,df.images,df.target):\n",
        "    ax.set_axis_off()\n",
        "    ax.imshow(image, cmap=plt.cm.gray_r,interpolation=\"nearest\")\n",
        "    ax.set_title(\"Traning : %i\"%label)"
      ]
    },
    {
      "cell_type": "code",
      "execution_count": null,
      "metadata": {
        "id": "IRwXkVlwAmW6",
        "outputId": "d473fa8a-1c89-4096-e72d-4aac1297ffa3"
      },
      "outputs": [
        {
          "data": {
            "text/plain": [
              "(1797, 8, 8)"
            ]
          },
          "execution_count": 9,
          "metadata": {},
          "output_type": "execute_result"
        }
      ],
      "source": [
        "df.images.shape"
      ]
    },
    {
      "cell_type": "code",
      "execution_count": null,
      "metadata": {
        "id": "dFZtozziAmW6",
        "outputId": "f7a958af-778d-4cd6-dc64-8d5df95179e2"
      },
      "outputs": [
        {
          "data": {
            "text/plain": [
              "array([[ 0.,  0.,  5., 13.,  9.,  1.,  0.,  0.],\n",
              "       [ 0.,  0., 13., 15., 10., 15.,  5.,  0.],\n",
              "       [ 0.,  3., 15.,  2.,  0., 11.,  8.,  0.],\n",
              "       [ 0.,  4., 12.,  0.,  0.,  8.,  8.,  0.],\n",
              "       [ 0.,  5.,  8.,  0.,  0.,  9.,  8.,  0.],\n",
              "       [ 0.,  4., 11.,  0.,  1., 12.,  7.,  0.],\n",
              "       [ 0.,  2., 14.,  5., 10., 12.,  0.,  0.],\n",
              "       [ 0.,  0.,  6., 13., 10.,  0.,  0.,  0.]])"
            ]
          },
          "execution_count": 10,
          "metadata": {},
          "output_type": "execute_result"
        }
      ],
      "source": [
        "df.images[0]"
      ]
    },
    {
      "cell_type": "code",
      "execution_count": null,
      "metadata": {
        "id": "_bUqLs2lAmW6",
        "outputId": "cb213096-543d-4392-b92e-0fc15c20e95b"
      },
      "outputs": [
        {
          "data": {
            "text/plain": [
              "(8, 8)"
            ]
          },
          "execution_count": 11,
          "metadata": {},
          "output_type": "execute_result"
        }
      ],
      "source": [
        "df.images[0].shape"
      ]
    },
    {
      "cell_type": "code",
      "execution_count": null,
      "metadata": {
        "id": "RormwW-NAmW6",
        "outputId": "2ee1b46f-1dc9-4fa0-e0e1-23f470bfe423"
      },
      "outputs": [
        {
          "data": {
            "text/plain": [
              "1797"
            ]
          },
          "execution_count": 12,
          "metadata": {},
          "output_type": "execute_result"
        }
      ],
      "source": [
        "len(df.images)"
      ]
    },
    {
      "cell_type": "code",
      "execution_count": null,
      "metadata": {
        "id": "aZQqyz08AmW6"
      },
      "outputs": [],
      "source": [
        "n_samples = len(df.images)\n",
        "data = df.images.reshape((n_samples, -1))"
      ]
    },
    {
      "cell_type": "code",
      "execution_count": null,
      "metadata": {
        "id": "GL4xQJlVAmW6",
        "outputId": "8e1f1b27-5e30-465b-b877-ed8334b5458e"
      },
      "outputs": [
        {
          "data": {
            "text/plain": [
              "array([ 0.,  0.,  5., 13.,  9.,  1.,  0.,  0.,  0.,  0., 13., 15., 10.,\n",
              "       15.,  5.,  0.,  0.,  3., 15.,  2.,  0., 11.,  8.,  0.,  0.,  4.,\n",
              "       12.,  0.,  0.,  8.,  8.,  0.,  0.,  5.,  8.,  0.,  0.,  9.,  8.,\n",
              "        0.,  0.,  4., 11.,  0.,  1., 12.,  7.,  0.,  0.,  2., 14.,  5.,\n",
              "       10., 12.,  0.,  0.,  0.,  0.,  6., 13., 10.,  0.,  0.,  0.])"
            ]
          },
          "execution_count": 14,
          "metadata": {},
          "output_type": "execute_result"
        }
      ],
      "source": [
        "data[0]"
      ]
    },
    {
      "cell_type": "code",
      "execution_count": null,
      "metadata": {
        "id": "rXM_vy4aAmW7",
        "outputId": "00e06e1b-e8c3-4aa4-f69e-157163320129"
      },
      "outputs": [
        {
          "data": {
            "text/plain": [
              "(64,)"
            ]
          },
          "execution_count": 15,
          "metadata": {},
          "output_type": "execute_result"
        }
      ],
      "source": [
        "data[0].shape"
      ]
    },
    {
      "cell_type": "code",
      "execution_count": null,
      "metadata": {
        "id": "0zzVLnQVAmW7",
        "outputId": "629377e6-22f5-4278-b73b-38b282c15289"
      },
      "outputs": [
        {
          "data": {
            "text/plain": [
              "(1797, 64)"
            ]
          },
          "execution_count": 16,
          "metadata": {},
          "output_type": "execute_result"
        }
      ],
      "source": [
        "data.shape"
      ]
    },
    {
      "cell_type": "code",
      "execution_count": null,
      "metadata": {
        "id": "lQ8aIozRAmW7",
        "outputId": "2173c98f-7539-4a5b-83b5-51c245c8d1a7"
      },
      "outputs": [
        {
          "data": {
            "text/plain": [
              "0.0"
            ]
          },
          "execution_count": 17,
          "metadata": {},
          "output_type": "execute_result"
        }
      ],
      "source": [
        "data.min()"
      ]
    },
    {
      "cell_type": "code",
      "execution_count": null,
      "metadata": {
        "id": "cTwqM2JpAmW7",
        "outputId": "a71dd3f7-a7d3-4d43-f167-42a16b21f758"
      },
      "outputs": [
        {
          "data": {
            "text/plain": [
              "16.0"
            ]
          },
          "execution_count": 19,
          "metadata": {},
          "output_type": "execute_result"
        }
      ],
      "source": [
        "data.max()"
      ]
    },
    {
      "cell_type": "code",
      "execution_count": null,
      "metadata": {
        "id": "u8JLeTiLAmW7"
      },
      "outputs": [],
      "source": [
        "data = data/16"
      ]
    },
    {
      "cell_type": "code",
      "execution_count": null,
      "metadata": {
        "id": "kRR5vp9NAmW7",
        "outputId": "c9f17a61-bbe7-47af-b78e-f6de405cd22c"
      },
      "outputs": [
        {
          "data": {
            "text/plain": [
              "0.0"
            ]
          },
          "execution_count": 21,
          "metadata": {},
          "output_type": "execute_result"
        }
      ],
      "source": [
        "data.min()"
      ]
    },
    {
      "cell_type": "code",
      "execution_count": null,
      "metadata": {
        "id": "YIf0x5WTAmW8",
        "outputId": "12183d0c-98e3-4326-8b81-f8ea65f831f4"
      },
      "outputs": [
        {
          "data": {
            "text/plain": [
              "1.0"
            ]
          },
          "execution_count": 22,
          "metadata": {},
          "output_type": "execute_result"
        }
      ],
      "source": [
        "data.max()"
      ]
    },
    {
      "cell_type": "code",
      "execution_count": null,
      "metadata": {
        "id": "muyFCjYDAmW8",
        "outputId": "183b87f0-23cb-458b-ddae-d5f18cebb63b"
      },
      "outputs": [
        {
          "data": {
            "text/plain": [
              "array([0.    , 0.    , 0.3125, 0.8125, 0.5625, 0.0625, 0.    , 0.    ,\n",
              "       0.    , 0.    , 0.8125, 0.9375, 0.625 , 0.9375, 0.3125, 0.    ,\n",
              "       0.    , 0.1875, 0.9375, 0.125 , 0.    , 0.6875, 0.5   , 0.    ,\n",
              "       0.    , 0.25  , 0.75  , 0.    , 0.    , 0.5   , 0.5   , 0.    ,\n",
              "       0.    , 0.3125, 0.5   , 0.    , 0.    , 0.5625, 0.5   , 0.    ,\n",
              "       0.    , 0.25  , 0.6875, 0.    , 0.0625, 0.75  , 0.4375, 0.    ,\n",
              "       0.    , 0.125 , 0.875 , 0.3125, 0.625 , 0.75  , 0.    , 0.    ,\n",
              "       0.    , 0.    , 0.375 , 0.8125, 0.625 , 0.    , 0.    , 0.    ])"
            ]
          },
          "execution_count": 23,
          "metadata": {},
          "output_type": "execute_result"
        }
      ],
      "source": [
        "data[0]"
      ]
    },
    {
      "cell_type": "markdown",
      "source": [
        "# Train Test Split"
      ],
      "metadata": {
        "id": "qdILguYMCE14"
      }
    },
    {
      "cell_type": "code",
      "execution_count": null,
      "metadata": {
        "id": "JYFNbfxlAmW8"
      },
      "outputs": [],
      "source": [
        "from sklearn.model_selection import train_test_split"
      ]
    },
    {
      "cell_type": "code",
      "execution_count": null,
      "metadata": {
        "id": "Mdj1VNnHAmW8"
      },
      "outputs": [],
      "source": [
        "X_train,X_test,y_train,y_test = train_test_split(data,df.target,test_size=0.3)"
      ]
    },
    {
      "cell_type": "code",
      "execution_count": null,
      "metadata": {
        "id": "rjIdEp67AmW8",
        "outputId": "95b5c094-2b7b-4b9c-f82a-c625f98da9f6"
      },
      "outputs": [
        {
          "data": {
            "text/plain": [
              "((1257, 64), (540, 64), (1257,), (540,))"
            ]
          },
          "execution_count": 26,
          "metadata": {},
          "output_type": "execute_result"
        }
      ],
      "source": [
        "X_train.shape,X_test.shape,y_train.shape,y_test.shape"
      ]
    },
    {
      "cell_type": "markdown",
      "source": [
        "# Modeling"
      ],
      "metadata": {
        "id": "FVc9YtBRCTVJ"
      }
    },
    {
      "cell_type": "code",
      "execution_count": null,
      "metadata": {
        "id": "nQips_mmAmW8"
      },
      "outputs": [],
      "source": [
        "from sklearn.ensemble import RandomForestClassifier"
      ]
    },
    {
      "cell_type": "code",
      "execution_count": null,
      "metadata": {
        "id": "d9js9B1FAmW8"
      },
      "outputs": [],
      "source": [
        "rf =RandomForestClassifier()"
      ]
    },
    {
      "cell_type": "code",
      "execution_count": null,
      "metadata": {
        "id": "wPrQ_mNQAmW8",
        "outputId": "4d525d4a-68a5-4948-93ec-6c68d96824bd"
      },
      "outputs": [
        {
          "data": {
            "text/html": [
              "<style>#sk-container-id-1 {color: black;}#sk-container-id-1 pre{padding: 0;}#sk-container-id-1 div.sk-toggleable {background-color: white;}#sk-container-id-1 label.sk-toggleable__label {cursor: pointer;display: block;width: 100%;margin-bottom: 0;padding: 0.3em;box-sizing: border-box;text-align: center;}#sk-container-id-1 label.sk-toggleable__label-arrow:before {content: \"▸\";float: left;margin-right: 0.25em;color: #696969;}#sk-container-id-1 label.sk-toggleable__label-arrow:hover:before {color: black;}#sk-container-id-1 div.sk-estimator:hover label.sk-toggleable__label-arrow:before {color: black;}#sk-container-id-1 div.sk-toggleable__content {max-height: 0;max-width: 0;overflow: hidden;text-align: left;background-color: #f0f8ff;}#sk-container-id-1 div.sk-toggleable__content pre {margin: 0.2em;color: black;border-radius: 0.25em;background-color: #f0f8ff;}#sk-container-id-1 input.sk-toggleable__control:checked~div.sk-toggleable__content {max-height: 200px;max-width: 100%;overflow: auto;}#sk-container-id-1 input.sk-toggleable__control:checked~label.sk-toggleable__label-arrow:before {content: \"▾\";}#sk-container-id-1 div.sk-estimator input.sk-toggleable__control:checked~label.sk-toggleable__label {background-color: #d4ebff;}#sk-container-id-1 div.sk-label input.sk-toggleable__control:checked~label.sk-toggleable__label {background-color: #d4ebff;}#sk-container-id-1 input.sk-hidden--visually {border: 0;clip: rect(1px 1px 1px 1px);clip: rect(1px, 1px, 1px, 1px);height: 1px;margin: -1px;overflow: hidden;padding: 0;position: absolute;width: 1px;}#sk-container-id-1 div.sk-estimator {font-family: monospace;background-color: #f0f8ff;border: 1px dotted black;border-radius: 0.25em;box-sizing: border-box;margin-bottom: 0.5em;}#sk-container-id-1 div.sk-estimator:hover {background-color: #d4ebff;}#sk-container-id-1 div.sk-parallel-item::after {content: \"\";width: 100%;border-bottom: 1px solid gray;flex-grow: 1;}#sk-container-id-1 div.sk-label:hover label.sk-toggleable__label {background-color: #d4ebff;}#sk-container-id-1 div.sk-serial::before {content: \"\";position: absolute;border-left: 1px solid gray;box-sizing: border-box;top: 0;bottom: 0;left: 50%;z-index: 0;}#sk-container-id-1 div.sk-serial {display: flex;flex-direction: column;align-items: center;background-color: white;padding-right: 0.2em;padding-left: 0.2em;position: relative;}#sk-container-id-1 div.sk-item {position: relative;z-index: 1;}#sk-container-id-1 div.sk-parallel {display: flex;align-items: stretch;justify-content: center;background-color: white;position: relative;}#sk-container-id-1 div.sk-item::before, #sk-container-id-1 div.sk-parallel-item::before {content: \"\";position: absolute;border-left: 1px solid gray;box-sizing: border-box;top: 0;bottom: 0;left: 50%;z-index: -1;}#sk-container-id-1 div.sk-parallel-item {display: flex;flex-direction: column;z-index: 1;position: relative;background-color: white;}#sk-container-id-1 div.sk-parallel-item:first-child::after {align-self: flex-end;width: 50%;}#sk-container-id-1 div.sk-parallel-item:last-child::after {align-self: flex-start;width: 50%;}#sk-container-id-1 div.sk-parallel-item:only-child::after {width: 0;}#sk-container-id-1 div.sk-dashed-wrapped {border: 1px dashed gray;margin: 0 0.4em 0.5em 0.4em;box-sizing: border-box;padding-bottom: 0.4em;background-color: white;}#sk-container-id-1 div.sk-label label {font-family: monospace;font-weight: bold;display: inline-block;line-height: 1.2em;}#sk-container-id-1 div.sk-label-container {text-align: center;}#sk-container-id-1 div.sk-container {/* jupyter's `normalize.less` sets `[hidden] { display: none; }` but bootstrap.min.css set `[hidden] { display: none !important; }` so we also need the `!important` here to be able to override the default hidden behavior on the sphinx rendered scikit-learn.org. See: https://github.com/scikit-learn/scikit-learn/issues/21755 */display: inline-block !important;position: relative;}#sk-container-id-1 div.sk-text-repr-fallback {display: none;}</style><div id=\"sk-container-id-1\" class=\"sk-top-container\"><div class=\"sk-text-repr-fallback\"><pre>RandomForestClassifier()</pre><b>In a Jupyter environment, please rerun this cell to show the HTML representation or trust the notebook. <br />On GitHub, the HTML representation is unable to render, please try loading this page with nbviewer.org.</b></div><div class=\"sk-container\" hidden><div class=\"sk-item\"><div class=\"sk-estimator sk-toggleable\"><input class=\"sk-toggleable__control sk-hidden--visually\" id=\"sk-estimator-id-1\" type=\"checkbox\" checked><label for=\"sk-estimator-id-1\" class=\"sk-toggleable__label sk-toggleable__label-arrow\">RandomForestClassifier</label><div class=\"sk-toggleable__content\"><pre>RandomForestClassifier()</pre></div></div></div></div></div>"
            ],
            "text/plain": [
              "RandomForestClassifier()"
            ]
          },
          "execution_count": 29,
          "metadata": {},
          "output_type": "execute_result"
        }
      ],
      "source": [
        "rf.fit(X_train,y_train)"
      ]
    },
    {
      "cell_type": "code",
      "execution_count": null,
      "metadata": {
        "id": "GHDGLysFAmW8"
      },
      "outputs": [],
      "source": [
        "y_pred = rf.predict(X_test)"
      ]
    },
    {
      "cell_type": "code",
      "execution_count": null,
      "metadata": {
        "id": "4vdOIVffAmW9",
        "outputId": "d6694425-fa8a-4168-b8f8-21e24fdb191e"
      },
      "outputs": [
        {
          "data": {
            "text/plain": [
              "array([3, 0, 8, 6, 7, 8, 5, 0, 1, 2, 8, 3, 7, 5, 5, 1, 1, 9, 8, 3, 0, 2,\n",
              "       6, 4, 9, 9, 9, 0, 5, 2, 9, 3, 1, 9, 5, 4, 4, 6, 5, 5, 1, 4, 0, 3,\n",
              "       4, 6, 5, 4, 5, 8, 6, 5, 4, 8, 0, 8, 1, 2, 2, 2, 1, 9, 0, 5, 3, 4,\n",
              "       0, 0, 5, 9, 6, 6, 3, 8, 5, 5, 7, 0, 9, 6, 0, 6, 9, 6, 3, 0, 8, 0,\n",
              "       2, 5, 0, 1, 7, 4, 2, 9, 9, 1, 1, 7, 0, 0, 2, 4, 7, 2, 1, 8, 7, 0,\n",
              "       1, 0, 5, 5, 2, 3, 8, 6, 4, 3, 8, 6, 5, 0, 7, 3, 3, 2, 0, 4, 4, 5,\n",
              "       2, 9, 6, 6, 7, 0, 0, 0, 3, 0, 0, 8, 0, 4, 7, 8, 5, 3, 3, 4, 2, 6,\n",
              "       0, 0, 8, 7, 0, 7, 7, 0, 8, 4, 7, 1, 3, 3, 2, 4, 9, 2, 3, 4, 9, 9,\n",
              "       7, 8, 1, 2, 1, 5, 6, 5, 9, 2, 0, 2, 3, 3, 7, 6, 3, 5, 4, 7, 9, 4,\n",
              "       2, 4, 3, 3, 7, 1, 1, 9, 5, 2, 4, 3, 3, 8, 1, 1, 1, 5, 9, 5, 2, 8,\n",
              "       5, 8, 5, 4, 8, 7, 7, 9, 0, 0, 9, 8, 6, 9, 1, 9, 0, 4, 0, 2, 9, 4,\n",
              "       6, 1, 6, 7, 3, 4, 4, 1, 8, 8, 8, 7, 1, 7, 8, 0, 9, 8, 1, 2, 6, 3,\n",
              "       9, 6, 2, 1, 4, 3, 5, 0, 0, 8, 6, 5, 0, 8, 2, 2, 0, 5, 7, 7, 4, 9,\n",
              "       5, 7, 1, 6, 4, 1, 2, 9, 6, 1, 3, 8, 2, 3, 4, 6, 2, 3, 8, 3, 6, 6,\n",
              "       9, 1, 2, 5, 3, 4, 5, 9, 8, 5, 9, 1, 6, 7, 2, 9, 4, 7, 1, 2, 3, 0,\n",
              "       6, 3, 5, 5, 0, 2, 3, 1, 4, 6, 0, 0, 4, 1, 0, 2, 7, 7, 0, 7, 0, 7,\n",
              "       7, 4, 8, 3, 9, 9, 7, 9, 8, 2, 3, 7, 3, 5, 5, 9, 0, 9, 9, 6, 4, 7,\n",
              "       3, 9, 5, 4, 9, 7, 4, 2, 8, 4, 4, 3, 6, 3, 8, 1, 5, 7, 3, 3, 1, 0,\n",
              "       7, 5, 3, 1, 2, 1, 6, 3, 8, 4, 6, 8, 1, 7, 9, 4, 4, 5, 2, 4, 6, 5,\n",
              "       6, 2, 8, 9, 7, 4, 3, 7, 5, 7, 4, 7, 8, 7, 5, 9, 5, 2, 7, 4, 8, 5,\n",
              "       9, 0, 9, 4, 2, 3, 8, 3, 2, 7, 2, 6, 3, 5, 5, 9, 0, 1, 3, 9, 5, 9,\n",
              "       2, 5, 2, 8, 7, 4, 9, 2, 9, 9, 1, 0, 3, 4, 6, 0, 0, 8, 2, 2, 3, 2,\n",
              "       4, 8, 9, 4, 9, 6, 8, 7, 9, 6, 8, 9, 0, 8, 5, 2, 1, 4, 2, 0, 8, 2,\n",
              "       7, 0, 7, 9, 3, 2, 8, 8, 8, 1, 6, 8, 9, 9, 6, 7, 4, 4, 4, 4, 8, 9,\n",
              "       3, 8, 5, 6, 1, 5, 3, 8, 1, 9, 6, 0])"
            ]
          },
          "execution_count": 31,
          "metadata": {},
          "output_type": "execute_result"
        }
      ],
      "source": [
        "y_pred"
      ]
    },
    {
      "cell_type": "markdown",
      "source": [
        "# Model Evaluation"
      ],
      "metadata": {
        "id": "xuwT4OTBCa2b"
      }
    },
    {
      "cell_type": "code",
      "execution_count": null,
      "metadata": {
        "id": "di-I6bvzAmW9"
      },
      "outputs": [],
      "source": [
        "from sklearn.metrics import confusion_matrix,classification_report"
      ]
    },
    {
      "cell_type": "code",
      "execution_count": null,
      "metadata": {
        "id": "lVHGX5hKAmW9",
        "outputId": "32bf08c5-46e9-40f4-ff77-f0f04607d65c"
      },
      "outputs": [
        {
          "data": {
            "text/plain": [
              "array([[57,  0,  0,  0,  0,  0,  0,  0,  0,  0],\n",
              "       [ 0, 43,  0,  0,  0,  0,  0,  0,  0,  0],\n",
              "       [ 1,  0, 54,  0,  0,  0,  0,  0,  1,  0],\n",
              "       [ 0,  0,  0, 56,  0,  0,  0,  0,  2,  0],\n",
              "       [ 0,  0,  0,  0, 57,  0,  0,  1,  0,  0],\n",
              "       [ 0,  0,  0,  0,  1, 53,  0,  0,  0,  0],\n",
              "       [ 0,  0,  0,  0,  0,  0, 45,  0,  0,  0],\n",
              "       [ 0,  0,  0,  0,  0,  0,  0, 50,  0,  0],\n",
              "       [ 0,  2,  0,  0,  0,  1,  0,  0, 52,  0],\n",
              "       [ 0,  0,  0,  0,  0,  1,  0,  1,  1, 61]], dtype=int64)"
            ]
          },
          "execution_count": 33,
          "metadata": {},
          "output_type": "execute_result"
        }
      ],
      "source": [
        "confusion_matrix(y_test,y_pred)"
      ]
    },
    {
      "cell_type": "markdown",
      "source": [
        "# Prediction"
      ],
      "metadata": {
        "id": "2ycMrPInCgrj"
      }
    },
    {
      "cell_type": "code",
      "execution_count": null,
      "metadata": {
        "id": "MoYYWBseAmW9",
        "outputId": "9add8659-8d75-43a1-ede0-613a50fdec36"
      },
      "outputs": [
        {
          "name": "stdout",
          "output_type": "stream",
          "text": [
            "              precision    recall  f1-score   support\n",
            "\n",
            "           0       0.98      1.00      0.99        57\n",
            "           1       0.96      1.00      0.98        43\n",
            "           2       1.00      0.96      0.98        56\n",
            "           3       1.00      0.97      0.98        58\n",
            "           4       0.98      0.98      0.98        58\n",
            "           5       0.96      0.98      0.97        54\n",
            "           6       1.00      1.00      1.00        45\n",
            "           7       0.96      1.00      0.98        50\n",
            "           8       0.93      0.95      0.94        55\n",
            "           9       1.00      0.95      0.98        64\n",
            "\n",
            "    accuracy                           0.98       540\n",
            "   macro avg       0.98      0.98      0.98       540\n",
            "weighted avg       0.98      0.98      0.98       540\n",
            "\n"
          ]
        }
      ],
      "source": [
        "print(classification_report(y_test ,y_pred))"
      ]
    },
    {
      "cell_type": "markdown",
      "source": [
        "# Explaination :\n",
        "\n",
        "\n",
        "\n",
        "Data Preparation: The code begins by loading the required libraries.\n",
        "\n",
        "Then, it imports the MNIST dataset from sklearn.datasets. This dataset contains 70,000 handwritten digits (0 to 9) - both images and their labels.\n",
        "\n",
        "After that, it splits the dataset into training and testing sets. This is a common practice in machine learning to evaluate the performance of the model.\n",
        "\n",
        "Then, the code flattens the image data by reshaping it into 784 (28x28) features. This is because the data consists of 28x28 pixel images, and each pixel has an intensity value.\n",
        "\n",
        "Then, it scales the features using the MinMaxScaler. This ensures that all features are on the same scale, helping the model to converge faster.\n",
        "\n",
        "Now, it initializes the neural network model. This is done by using the Sequential model from keras. Sequential models in Keras are linear stacks of layers.\n",
        "\n",
        "After initializing the model, the code adds a few layers to it. First, it adds a dense layer (also known as fully connected layer) with 128 neurons. This layer will learn the non-linear relationships in the data.\n",
        "\n",
        "Then, it adds a dropout layer. This is a regularization technique that helps prevent overfitting. During training, this layer will randomly set a fraction of the neurons in the previous layer to 0.\n",
        "\n",
        "Next, it adds another dense layer with 128 neurons. This layer will learn the higher-level features of the data.\n",
        "\n",
        "After adding the dense layers, it adds a final dense layer with 10 neurons (one for each digit from 0 to 9). This layer will output the predicted digit.\n",
        "\n",
        "The code then compiles the model by specifying the optimizer (Adam), loss function (Sparse Categorical Crossentropy), and metrics to evaluate the model's performance (accuracy).\n",
        "\n",
        "After compiling the model, it fits the model to the training data. This involves training the model on the training data and adjusting the model's parameters accordingly.\n",
        "\n",
        "Finally, the code evaluates the model's performance on the testing data. This involves passing the testing data through the model and comparing the predicted digit with the actual digit (ground truth).\n",
        "\n",
        "The output will be the accuracy of the model on the testing data"
      ],
      "metadata": {
        "id": "om7b6h5qDP6I"
      }
    },
    {
      "cell_type": "code",
      "execution_count": null,
      "metadata": {
        "id": "jKGpXkJFAmW9"
      },
      "outputs": [],
      "source": []
    }
  ],
  "metadata": {
    "kernelspec": {
      "display_name": "Python 3",
      "language": "python",
      "name": "python3"
    },
    "language_info": {
      "codemirror_mode": {
        "name": "ipython",
        "version": 3
      },
      "file_extension": ".py",
      "mimetype": "text/x-python",
      "name": "python",
      "nbconvert_exporter": "python",
      "pygments_lexer": "ipython3",
      "version": "3.12.0"
    },
    "colab": {
      "provenance": [],
      "include_colab_link": true
    }
  },
  "nbformat": 4,
  "nbformat_minor": 0
}